{
 "cells": [
  {
   "cell_type": "markdown",
   "metadata": {},
   "source": [
    "# Data Analysis\n",
    "This file will contain all initial analysis of the data and plot it.\n",
    "\n",
    "TODO: Chloe do this (https://github.com/vaquierm/RedditCommentTextClassification/issues/11)"
   ]
  },
  {
   "cell_type": "code",
   "execution_count": null,
   "metadata": {},
   "outputs": [],
   "source": [
    "import matplotlib.pyplot as plt\n",
    "import numpy as np\n",
    "import seaborn as sns\n",
    "import pandas as pd\n",
    "import nltk\n",
    "from nltk import FreqDist\n",
    "nltk.download('punkt')\n",
    "\n",
    "import sys\n",
    "sys.path.insert(0, '../../src')\n",
    "\n",
    "from utils import load_raw_training_data"
   ]
  },
  {
   "cell_type": "code",
   "execution_count": null,
   "metadata": {},
   "outputs": [],
   "source": [
    "def fetch_data(file_path):\n",
    "    print(\"Reading data files...\")\n",
    "    data = pd.read_csv(file_path)\n",
    "    \n",
    "#todo: clean the data beforehand\n",
    "    return data"
   ]
  },
  {
   "cell_type": "code",
   "execution_count": null,
   "metadata": {},
   "outputs": [],
   "source": [
    "def calculate_most_common_words(data, top_nb = 5):\n",
    "    print(\"Computing most common words...\")\n",
    "    \n",
    "    fdist_allsubs = FreqDist()\n",
    "    \n",
    "    for subreddit in data.subreddits.unique():\n",
    "        print(\"\\t\" + subreddit)\n",
    "        \n",
    "        # get data associated to subreddit\n",
    "        subreddit_data = data.loc[data[\"subreddits\"] == subreddit]\n",
    "        \n",
    "        # get frequency distribution of all words\n",
    "        subreddit_comments = nltk.tokenize.word_tokenize(subreddit_data[\"comments\"].str.cat(sep=\"\\n\"))\n",
    "        fdist_subreddit = nltk.FreqDist(subreddit_comments)\n",
    "        print(fdist_subreddit)\n",
    "        print(fdist_subreddit.most_common(top_nb))\n",
    "        fdist_allsubs = fdist_allsubs + fdist_subreddit\n",
    "    \n",
    "    print(\"\\tall subreddits\")\n",
    "    print(fdist_allsubs)\n",
    "    print(fdist_allsubs.most_common(top_nb))"
   ]
  },
  {
   "cell_type": "markdown",
   "metadata": {},
   "source": [
    "~~- What are the most common words~~\n",
    "- What are the most common words for each subreddit \n",
    "       - that aren't really present for other subreddits (This is somewhat related to #4 since these are essentially the best words since they will probably be quite correlated with the output)\n",
    "- Average number of words for comments\n",
    "- Average number of words for each subreddit\n",
    "- Average number of youtube links per comment in each subreddit category (probably high for like overwatch/league of legends)\n",
    "- Check if there are any unknown charachters (There could be japanese charachters in comments in the anime subreddit)"
   ]
  },
  {
   "cell_type": "code",
   "execution_count": null,
   "metadata": {},
   "outputs": [],
   "source": [
    "def calculate_avg_nb_words(data):\n",
    "    COUNT_COLUMN = \"count words\"\n",
    "    COUNT_YOUTUBE_COLUMN = \"count youtube\"\n",
    "    \n",
    "    print(\"Computing average number of words per comment...\")\n",
    "    data[COUNT_COLUMN] = data.apply(lambda row: len(row.comments), axis=1)\n",
    "    count_youtube_comment = 0\n",
    "    \n",
    "    for subreddit in data.subreddits.unique():\n",
    "        print(\"\\t\" + subreddit)\n",
    "        # get data associated to subreddit\n",
    "        subreddit_data = data.loc[data[\"subreddits\"] == subreddit]\n",
    "        \n",
    "        # get mean of count of words \n",
    "        subreddit_mean_words = subreddit_data[COUNT_COLUMN].mean()\n",
    "        print(subreddit_mean_words)\n",
    "        \n",
    "        # find the nb of youtube links and divide by nb of comments (if data is processed, can just get nb of \"youtube\")\n",
    "        subreddit_count_youtube_comment = subreddit_data[\"comments\"].str.count(\"youtube\").sum()\n",
    "        print(\"nb of youtube comment:\" + str(subreddit_count_youtube_comment))\n",
    "        #add to global youtube count\n",
    "        count_youtube_comment += subreddit_count_youtube_comment\n",
    "        \n",
    "    print(\"\\t all subreddits\")\n",
    "    # get mean of count of words \n",
    "    mean_words = data[COUNT_COLUMN].mean()\n",
    "    print(mean_words)\n",
    "    print(\"total nb of youtube comment:\" + str(count_youtube_comment))\n"
   ]
  },
  {
   "cell_type": "code",
   "execution_count": null,
   "metadata": {},
   "outputs": [],
   "source": [
    "def calculate_statistics(data):\n",
    "    print(\"Computing statistics...\")\n",
    "    \n",
    "    calculate_most_common_words(data)\n",
    "    calculate_avg_nb_words(data)"
   ]
  },
  {
   "cell_type": "code",
   "execution_count": null,
   "metadata": {},
   "outputs": [],
   "source": [
    "data = fetch_data(\"../../data/raw_data/reddit_train.csv\")\n",
    "calculate_statistics(data)"
   ]
  },
  {
   "cell_type": "code",
   "execution_count": null,
   "metadata": {},
   "outputs": [],
   "source": []
  },
  {
   "cell_type": "code",
   "execution_count": null,
   "metadata": {},
   "outputs": [],
   "source": []
  }
 ],
 "metadata": {
  "kernelspec": {
   "display_name": "Python 3",
   "language": "python",
   "name": "python3"
  },
  "language_info": {
   "codemirror_mode": {
    "name": "ipython",
    "version": 3
   },
   "file_extension": ".py",
   "mimetype": "text/x-python",
   "name": "python",
   "nbconvert_exporter": "python",
   "pygments_lexer": "ipython3",
   "version": "3.7.3"
  }
 },
 "nbformat": 4,
 "nbformat_minor": 2
}
